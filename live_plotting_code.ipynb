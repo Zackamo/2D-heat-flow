{
 "cells": [
  {
   "cell_type": "code",
   "execution_count": 40,
   "metadata": {},
   "outputs": [],
   "source": [
    "# coding=utf-8\n",
    "# This is a sample Python script.\n",
    "\n",
    "# Press Shift+F10 to execute it or replace it with your code.\n",
    "# Press Double Shift to search everywhere for classes, files, tool windows, actions, and settings.\n",
    "import numpy as np\n",
    "import matplotlib.pyplot as plt\n",
    "import math\n",
    "from IPython.display import clear_output\n",
    "import tqdm\n",
    "from tqdm import tqdm"
   ]
  },
  {
   "cell_type": "code",
   "execution_count": 41,
   "metadata": {},
   "outputs": [],
   "source": [
    "# Press the green button in the gutter to run the script.\n",
    "def main_function(ti,tf):\n",
    "    if __name__ == '__main__':\n",
    "        rho = 2710 # mass density\n",
    "        cp = 0.89 # heat capacity\n",
    "        k = 239 # thermal conductivity\n",
    "        n = 100 # time steps\n",
    "        del_x = 0.029 # spatial step\n",
    "        del_t = 0.002\n",
    "        mesh_fourier_num = k * del_t / (cp * rho * del_x**2)\n",
    "\n",
    "\n",
    "        rows, cols = (100, 100)\n",
    "        arr_old = np.array([[1 for i in range(cols)] for j in range(rows)], dtype = float)\n",
    "        arr_old[0][:] = 0\n",
    "        arr_old[-1][:] = 0\n",
    "        for row in range(rows):\n",
    "            arr_old[row][0] = 0\n",
    "            arr_old[row][-1] = 0\n",
    "        arr_old[10, 10] = 500\n",
    "        arr_old[90, 90] = -500\n",
    "\n",
    "        arr_new = arr_old.copy()\n",
    "\n",
    "        for t in range(ti, tf):\n",
    "            for x in range(1, rows - 1):\n",
    "                #print(\"x: \" + str(x))\n",
    "                for y in range(1, cols - 1):\n",
    "                    #print(\"y: \" + str(y))\n",
    "                    #print(arr_old[x][y])\n",
    "                    arr_new[x][y] = (1 - 4*mesh_fourier_num)*arr_old[x][y]+ \\\n",
    "                    mesh_fourier_num*(arr_old[x+1][y]+arr_old[x][y+1]+ \\\n",
    "                    arr_old[x-1][y]+arr_old[x][y-1])\n",
    "                    #print(\"arr_new[x][y]: \" + str(arr_new[x][y]))\n",
    "                    #print(\"first part: \" + str((1 - 4*mesh_fourier_num)*arr_old[x][y]))\n",
    "                    #print(\"second part: \" + str(mesh_fourier_num*(arr_old[x+1][y]+arr_old[x][y+1]+ \\\n",
    "                    #arr_old[x-1][y]+arr_old[x][y-1])))\n",
    "\n",
    "\n",
    "                    #clear_output(wait=True)\n",
    "            arr_old = arr_new\n",
    "\n",
    "        #print(arr_old)\n",
    "        #print(arr_new)\n",
    "        arr_truncated = arr_new\n",
    "        arr_truncated = np.delete(arr_truncated, (0), axis = 1)\n",
    "        arr_truncated = np.delete(arr_truncated, (-1), axis = 1)\n",
    "        arr_truncated = np.delete(arr_truncated, 0, axis = 0)\n",
    "        arr_truncated = np.delete(arr_truncated, -1, axis = 0)\n",
    "        #print(arr_truncated)\n",
    "\n",
    "        plt.imshow(arr_truncated)\n",
    "        plt.colorbar()\n",
    "        plt.show()\n"
   ]
  },
  {
   "cell_type": "code",
   "execution_count": 42,
   "metadata": {},
   "outputs": [
    {
     "data": {
      "image/png": "[encoded data removed]",
      "text/plain": [
       "<Figure size 432x288 with 2 Axes>"
      ]
     },
     "metadata": {
      "needs_background": "light"
     },
     "output_type": "display_data"
    },
    {
     "name": "stderr",
     "output_type": "stream",
     "text": [
      "100%|██████████████████████████████████████████████████████████████████████████████████| 50/50 [03:02<00:00,  3.65s/it]\n"
     ]
    }
   ],
   "source": [
    "#time_arr=np.linspace(0,10,10)\n",
    "#print(len(time_arr))\n",
    "new_point=0\n",
    "for i in tqdm(range(50)):\n",
    "    new_point+=1\n",
    "    clear_output(wait=True)\n",
    "    main_function(0,new_point)\n",
    "    "
   ]
  },
  {
   "cell_type": "code",
   "execution_count": null,
   "metadata": {},
   "outputs": [],
   "source": []
  }
 ],
 "metadata": {
  "kernelspec": {
   "display_name": "Python 3",
   "language": "python",
   "name": "python3"
  },
  "language_info": {
   "codemirror_mode": {
    "name": "ipython",
    "version": 3
   },
   "file_extension": ".py",
   "mimetype": "text/x-python",
   "name": "python",
   "nbconvert_exporter": "python",
   "pygments_lexer": "ipython3",
   "version": "3.8.3"
  }
 },
 "nbformat": 4,
 "nbformat_minor": 4
}
